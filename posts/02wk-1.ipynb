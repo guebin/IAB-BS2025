{
 "cells": [
  {
   "cell_type": "raw",
   "id": "acf0da76-03e8-4dfa-b55e-de5bd34c9c07",
   "metadata": {
    "vscode": {
     "languageId": "raw"
    }
   },
   "source": [
    "---\n",
    "title: \"02wk-1: 수학과의 표현, 귀류법과 일반화\"\n",
    "author: \"최규빈\"\n",
    "date: \"09/09/2025\"\n",
    "---"
   ]
  },
  {
   "cell_type": "markdown",
   "id": "eb5417e9-8d8e-4b43-bcab-c179a61311ff",
   "metadata": {},
   "source": [
    "### 강의영상 "
   ]
  },
  {
   "cell_type": "markdown",
   "id": "c53da98c",
   "metadata": {
    "vscode": {
     "languageId": "raw"
    }
   },
   "source": [
    "{{< video https://youtu.be/playlist?list=PLQqh36zP38-xoGnoP-N7oW2YkoWFnGbZF&si=VmKXqUXBpa5O5a9R >}}"
   ]
  },
  {
   "cell_type": "markdown",
   "id": "05eb13c4",
   "metadata": {},
   "source": [
    "---"
   ]
  },
  {
   "cell_type": "markdown",
   "id": "4c49a98a",
   "metadata": {},
   "source": [
    "### 수학과의 표현: (1) 기호"
   ]
  },
  {
   "cell_type": "markdown",
   "id": "26fc4b6b",
   "metadata": {},
   "source": [
    "`-` 아래와 같은 기호들의 의미를 알고 있는가? "
   ]
  },
  {
   "cell_type": "markdown",
   "id": "840c32b3",
   "metadata": {},
   "source": [
    "- $\\because$\n",
    "- $\\therefore$"
   ]
  },
  {
   "cell_type": "markdown",
   "id": "09b92631",
   "metadata": {
    "vscode": {
     "languageId": "raw"
    }
   },
   "source": [
    "`-` 이처럼 수학에서는 특별한 의미를 가지는 몇 가지 기호가 있다. "
   ]
  },
  {
   "cell_type": "markdown",
   "id": "7b39e671",
   "metadata": {
    "vscode": {
     "languageId": "raw"
    }
   },
   "source": [
    "---"
   ]
  },
  {
   "cell_type": "markdown",
   "id": "57549aa2",
   "metadata": {},
   "source": [
    "`-` 아래는 특별한 의미를 가지는 수학기호들의 모음이다.\n",
    "\n",
    "| 언어                  | 기호                                |\n",
    "|-----------------------|-------------------------------------|\n",
    "| for all               | ∀                                   |\n",
    "| exists                | ∃                                   |\n",
    "| such that, satisfying | s.t., st                            |\n",
    "| if-then, implies      | ⇒                                   |\n",
    "| if and only if        | ⇔                                   |\n",
    "| quod erat             | □, ■                                |"
   ]
  },
  {
   "cell_type": "markdown",
   "id": "0ffff0e4",
   "metadata": {},
   "source": [
    "---"
   ]
  },
  {
   "cell_type": "markdown",
   "id": "36df48f4",
   "metadata": {},
   "source": [
    "`# 예시1`: 아래의 문장\n",
    "\n",
    "> \"모든 실수 $x$에 대하여, $x^2$은 양수이다.\"\n",
    "\n",
    "을 다양하게 표현하여 보자.\n",
    "\n",
    "(언어)\n",
    "\n",
    "- for any $x$ in $\\mathbb{R}$, $x^2 \\geq 0$. \n",
    "- for arbitrary $x \\in \\mathbb{R}$, $x^2 \\geq 0$. \n",
    "- if $x \\in \\mathbb{R}$, then $x^2 \\geq 0$. "
   ]
  },
  {
   "cell_type": "markdown",
   "id": "531e3163",
   "metadata": {
    "vscode": {
     "languageId": "raw"
    }
   },
   "source": [
    "---"
   ]
  },
  {
   "cell_type": "markdown",
   "id": "6f56588a",
   "metadata": {},
   "source": [
    "\n",
    "(기호)\n",
    "\n",
    "- $\\forall x \\in \\mathbb{R}$: $x^2\\geq 0$. \n",
    "- $\\forall x \\in \\mathbb{R}$, $x^2\\geq 0$. \n",
    "- $x^2 \\geq 0$, for all $x \\in \\mathbb{R}$. \n",
    "- $x^2 \\geq 0$, $\\forall x \\in \\mathbb{R}$. \n",
    "- $x \\in \\mathbb{R} \\Rightarrow x^2 \\geq 0$. "
   ]
  },
  {
   "cell_type": "markdown",
   "id": "3a711c40",
   "metadata": {},
   "source": [
    "> 어떻게 쓰느냐에 대한 규칙은 없음. 거의 쓰는 사람 마음임. (그런데 뉘앙스는 조금씩 다름)"
   ]
  },
  {
   "cell_type": "markdown",
   "id": "b9363ebb",
   "metadata": {
    "vscode": {
     "languageId": "raw"
    }
   },
   "source": [
    "`#`"
   ]
  },
  {
   "cell_type": "markdown",
   "id": "f0bfb8a4",
   "metadata": {
    "vscode": {
     "languageId": "raw"
    }
   },
   "source": [
    "---"
   ]
  },
  {
   "cell_type": "markdown",
   "id": "ca141918",
   "metadata": {},
   "source": [
    "`# 예시2`: 이번에는\n",
    "\n",
    "> \"$\\Omega$의 임의의 부분집합 $A$,$B$에 대하여, $A=B$ 일 필요충분조건은 $A\\subset B$ 이고 $B \\subset A$ 이어야 한다.\"\n",
    "\n",
    "라는 문장을 다양하게 표현하여 보자. \n",
    "\n",
    "(언어)\n",
    "\n",
    "- For all $A,B \\subset \\Omega$, $A=B$ if and only if (1) $A \\subset B$ and (2) $B \\subset A$. \n",
    "- Consideer $A,B \\subset \\Omega$. $A=B$ if and only if (1) $A \\subset B$ and (2) $B \\subset A$. \n",
    "\n",
    "---\n"
   ]
  },
  {
   "cell_type": "markdown",
   "id": "cf15c0a1",
   "metadata": {},
   "source": [
    "\n",
    "(기호)\n",
    "\n",
    "- $A = B \\Leftrightarrow A \\subset B \\text{ and } B \\subset A, \\forall A,B \\in \\Omega$. \n",
    "- $A = B \\Leftrightarrow \\big(A \\subset B \\text{ and } B \\subset A\\big), \\forall A,B \\in \\Omega$. \n",
    "- $\\forall A,B \\subset \\Omega$: $A = B \\Leftrightarrow \\big(A \\subset B \\text{ and } B \\subset A\\big)$"
   ]
  },
  {
   "cell_type": "markdown",
   "id": "8a26a4c1",
   "metadata": {
    "vscode": {
     "languageId": "raw"
    }
   },
   "source": [
    "> 의미가 좀 모호해질수도 있는데, \"눈치껏\" 알아 먹어야 한다. "
   ]
  },
  {
   "cell_type": "markdown",
   "id": "50e351d3",
   "metadata": {
    "vscode": {
     "languageId": "raw"
    }
   },
   "source": [
    "`#`"
   ]
  },
  {
   "cell_type": "markdown",
   "id": "17f5f4ce",
   "metadata": {
    "vscode": {
     "languageId": "raw"
    }
   },
   "source": [
    "---"
   ]
  },
  {
   "cell_type": "markdown",
   "id": "1ebdd425",
   "metadata": {},
   "source": [
    "`# 예시3`: 이번에는 \n",
    "\n",
    "> \"임의의 양수 $\\epsilon>0$ 에 대하여 $|x| \\leq \\epsilon$ 이라면 $x=0$ 일 수 밖에 없다.\"\n",
    "\n",
    "라는 문장을 표현해보자. "
   ]
  },
  {
   "cell_type": "markdown",
   "id": "24ffda59",
   "metadata": {},
   "source": [
    "(언어)"
   ]
  },
  {
   "cell_type": "markdown",
   "id": "3a7c9436",
   "metadata": {},
   "source": [
    "- If $|x|< \\epsilon$ for all $\\epsilon>0$, then $x=0$. \n",
    "- If $|x|< \\epsilon$, $\\forall \\epsilon>0$, then $x=0$.\n",
    "- For all $\\epsilon>0$, $|x|< \\epsilon$ implies $x=0$. -- 틀린표현"
   ]
  },
  {
   "cell_type": "markdown",
   "id": "7874ce19",
   "metadata": {
    "vscode": {
     "languageId": "raw"
    }
   },
   "source": [
    "---"
   ]
  },
  {
   "cell_type": "markdown",
   "id": "3bdd4c69",
   "metadata": {},
   "source": [
    "(기호)\n",
    "\n",
    "- $|x| < \\epsilon,~ \\forall \\epsilon>0 \\Rightarrow x=0$\n",
    "- $\\forall \\epsilon>0: |x| < \\epsilon \\Rightarrow x=0$ -- 애매하다?\n",
    "- $\\big(\\forall \\epsilon>0:|x| < \\epsilon\\big) \\Rightarrow x=0$\n",
    "- $\\big(\\forall \\epsilon>0\\big)\\big(|x| < \\epsilon \\Rightarrow x=0\\big)$ -- 틀린표현\n"
   ]
  },
  {
   "cell_type": "markdown",
   "id": "60c860ad",
   "metadata": {
    "vscode": {
     "languageId": "raw"
    }
   },
   "source": [
    "---"
   ]
  },
  {
   "cell_type": "markdown",
   "id": "0a63b808",
   "metadata": {},
   "source": [
    "### 수학과의 표현: (2) 약어"
   ]
  },
  {
   "cell_type": "markdown",
   "id": "0649ea8c",
   "metadata": {},
   "source": [
    "`-` **약어** \n",
    "\n",
    "- ${\\sf WLOG}$: Without Loss Of Generality \n",
    "- ${\\sf WTS}$: What/Want To Show\n",
    "- ${\\sf iff}$: if and only if \n",
    "- ${\\sf Q.E.D.}$: 증명완료 (쓰지마..) \n",
    "- ${\\sf LHS}$: Left Hand Side\n",
    "- ${\\sf RHS}$: Right Hand Side"
   ]
  },
  {
   "cell_type": "markdown",
   "id": "b2569687",
   "metadata": {
    "vscode": {
     "languageId": "raw"
    }
   },
   "source": [
    "---"
   ]
  },
  {
   "cell_type": "markdown",
   "id": "3e84c10d",
   "metadata": {},
   "source": [
    "## 수학과의 표현: (3) 수의 집합"
   ]
  },
  {
   "cell_type": "markdown",
   "id": "4d063083",
   "metadata": {},
   "source": [
    "`-` 수학과에서는 수의 집합에 대한 약속된 기호가 있다. \n",
    "\n",
    "- 실수전체의 집합을 $\\mathbb{R}$로 표현한다. \n",
    "- 자연수전체의 집합을 $\\mathbb{N}$으로 표현한다. \n",
    "- 정수전체의 집합을 $\\mathbb{Z}$로 표현한다. \n",
    "- 유리서전체의 집합을 $\\mathbb{Q}$로 표현한다. "
   ]
  },
  {
   "cell_type": "markdown",
   "id": "4cd0188f",
   "metadata": {
    "vscode": {
     "languageId": "raw"
    }
   },
   "source": [
    "---"
   ]
  },
  {
   "cell_type": "markdown",
   "id": "303a63ff",
   "metadata": {},
   "source": [
    ":::{.callout-important}\n",
    "\n",
    "$\\infty$는 수가 아니다. \n",
    "\n",
    "- $\\{-\\infty,\\infty\\} \\not\\subset \\mathbb{R}$\n",
    "- $\\infty \\notin \\mathbb{N}$\n",
    "\n",
    "아무리봐도 숫자라고 생각한다면 아래의 예시를 보라.\n",
    "\n",
    "`# 예시` -- 아래 문장의 참 거짓을 판별하라. \n",
    "\n",
    "> $\\forall n \\in \\mathbb{N}$: $0 < \\frac{1}{n} \\leq 1$\n",
    "\n",
    "(답변)\n",
    "\n",
    "참이다. (하지만 $\\infty \\in \\mathbb{N}$ 을 가정한다면 이것이 참이라고 주장하기 애매하겠지)\n",
    "\n",
    "`#` \n",
    ":::"
   ]
  },
  {
   "cell_type": "markdown",
   "id": "3f643c1c",
   "metadata": {
    "vscode": {
     "languageId": "raw"
    }
   },
   "source": [
    "---"
   ]
  },
  {
   "cell_type": "markdown",
   "id": "fe421660",
   "metadata": {},
   "source": [
    "`-` $\\infty$는 숫자가 아니지만 편의상 $\\infty$를 수처럼 생각하여 아래와 같은 집합기호로 표현하기도 한다. \n",
    "\n",
    "$$\\bar{\\mathbb{R}}:=\\mathbb{R} \\cup \\{-\\infty,\\infty\\}$$\n",
    "\n",
    "여기에서 \"$:=$\"는 \"정의한다\" 라는 의미를 가진다."
   ]
  },
  {
   "cell_type": "markdown",
   "id": "0fc22c89",
   "metadata": {},
   "source": [
    "---"
   ]
  },
  {
   "cell_type": "markdown",
   "id": "33123ff3",
   "metadata": {
    "vscode": {
     "languageId": "raw"
    }
   },
   "source": [
    "## 귀류법"
   ]
  },
  {
   "cell_type": "markdown",
   "id": "4575a5a7-d41e-4939-a7a6-4647ba698bb9",
   "metadata": {
    "slideshow": {
     "slide_type": "fragment"
    }
   },
   "source": [
    "`-` 귀류법: **니 논리 대로면...** <- 인터넷 댓글에 많음.. "
   ]
  },
  {
   "cell_type": "markdown",
   "id": "209e6f39-8597-45e9-9f68-e385acd7a66f",
   "metadata": {
    "slideshow": {
     "slide_type": "fragment"
    }
   },
   "source": [
    ":::{.callout-note}\n",
    "님 논리대로면.. (ref: [하이브레인넷](https://m.hibrain.net/braincafe/cafes/38/posts/205/articles/466461?pagekey=466461&listType=TOTAL&pagesize=5&sortType=RDT&limit=30&displayType=TIT&siteid=1&page=1))\n",
    "\n",
    "- XXX가 문제 없으면 서울 전체가 문제가 없고 (애초에 서울은 문제도 아니라는데 왜 이소리는 하고 계신지 모르겠지만)\n",
    "- 수도권 모 대학이 문제가 없으면 전체가 문제가 없겠네요?\n",
    "- 지방도 1개 대학이 문제가 없으니 전체가 문제 없겠네요?\n",
    "와우! 모든 문제가 해결되었습니다! 출산율 감소로 인한 한국대학의 위기가 해결되었.. 아니 애초에 위기가 없었군요!.\n",
    "어휴.. ㅠㅠ\n",
    "\n",
    ":::"
   ]
  },
  {
   "cell_type": "markdown",
   "id": "45ca997b-1041-4cca-a084-2e33e21d806e",
   "metadata": {
    "slideshow": {
     "slide_type": "fragment"
    }
   },
   "source": [
    "---"
   ]
  },
  {
   "cell_type": "markdown",
   "id": "10f6fca3",
   "metadata": {
    "vscode": {
     "languageId": "raw"
    }
   },
   "source": [
    "`-` 섀도복싱 \n",
    "\n",
    "- 상대가 없는 허공에 대고 샌드백 없이 권투 연습을 하는 것. <https://www.youtube.com/embed/dvzTKtMHsJw>\n",
    "- 인터넷 상에서는 혼자서 허공에 대고 공격한다는 의미로 사용되고 있음. 어휘의 원래 뜻과 마찬가지로 아무도 뭐라 하지 않았는데 혼자 가상의 공격 상대를 만들어 놓고 비판하거나 욕하는 모습을 표현할 때 많이 쓰임. (출처: 나무위키)"
   ]
  },
  {
   "cell_type": "markdown",
   "id": "cef440a2",
   "metadata": {
    "vscode": {
     "languageId": "raw"
    }
   },
   "source": [
    "---"
   ]
  },
  {
   "cell_type": "markdown",
   "id": "50c3b84f",
   "metadata": {
    "vscode": {
     "languageId": "raw"
    }
   },
   "source": [
    "`기습질문` (지난시간의 난제) 바늘이 하나있는 시계에서, 바늘을 랜덤으로 돌려서 딱 6시에 멈출 확률이 0이어야 하는 이유? "
   ]
  },
  {
   "cell_type": "markdown",
   "id": "42b482e7",
   "metadata": {},
   "source": [
    "(풀이)"
   ]
  },
  {
   "cell_type": "markdown",
   "id": "984f5df3",
   "metadata": {},
   "source": [
    "---"
   ]
  },
  {
   "cell_type": "markdown",
   "id": "45aca77c-6071-48a9-887d-52a7a558650b",
   "metadata": {
    "slideshow": {
     "slide_type": "slide"
    }
   },
   "source": [
    "## 추상화(일반화)"
   ]
  },
  {
   "cell_type": "markdown",
   "id": "ed8279f1-402d-4b9f-8413-9a350a058a28",
   "metadata": {
    "slideshow": {
     "slide_type": "fragment"
    }
   },
   "source": [
    "`-` 연필이란? 필기도구의 하나. 흑연과 점토의 혼합물을 구워 만든 가느다란 심을 속에 넣고, 겉은 나무로 둘러싸서 만든다. 1565년에 영국에서 처음으로 만들었다. (출처: 네이버국어사전)"
   ]
  },
  {
   "cell_type": "markdown",
   "id": "993cc8ee",
   "metadata": {},
   "source": [
    "---"
   ]
  },
  {
   "attachments": {
    "bc4ce260-8b68-4d31-8d65-674a0cf58a33.png": {
     "image/png": "[encoded data removed]"
    }
   },
   "cell_type": "markdown",
   "id": "d7414026-ec8e-43a1-9f41-99c38a219b50",
   "metadata": {
    "slideshow": {
     "slide_type": "slide"
    }
   },
   "source": [
    "`질문`: 아래는 연필인가? \n",
    "\n",
    "![Figure: 애플펜슬..](attachment:bc4ce260-8b68-4d31-8d65-674a0cf58a33.png)"
   ]
  },
  {
   "cell_type": "markdown",
   "id": "3c535df6",
   "metadata": {
    "vscode": {
     "languageId": "raw"
    }
   },
   "source": [
    "--- "
   ]
  },
  {
   "cell_type": "markdown",
   "id": "8534dae6",
   "metadata": {},
   "source": [
    "- 새로운 개념을 적용해야하는 어떠한 일이 있을때, 사람들은 익숙한 정의에서 확장을 하기를 원한다. 확장을 하는 방식은 익숙한 정의에 의해 파생되는 성질을 이용하여 (혹은 성질들을 조합하여), \"마치 정의처럼\" 쓰는 것이다. \n",
    "- 수학에서는 약속에 의하여 성질이 생기고, 그 성질로부터 확장된 약속이 생기는 것은 매우 흔한일이다. "
   ]
  }
 ],
 "metadata": {
  "celltoolbar": "Slideshow",
  "kernelspec": {
   "display_name": "Julia 1.11.5",
   "language": "julia",
   "name": "julia-1.11"
  },
  "language_info": {
   "file_extension": ".jl",
   "mimetype": "application/julia",
   "name": "julia",
   "version": "1.11.5"
  }
 },
 "nbformat": 4,
 "nbformat_minor": 5
}
