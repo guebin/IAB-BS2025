{
 "cells": [
  {
   "cell_type": "raw",
   "id": "ddbd1981",
   "metadata": {
    "vscode": {
     "languageId": "raw"
    }
   },
   "source": [
    "---\n",
    "title: \"03wk-1: 카디널리티 (2)\"\n",
    "author: \"최규빈\"\n",
    "date: \"09/16/2025\"\n",
    "---"
   ]
  },
  {
   "cell_type": "markdown",
   "id": "eb5417e9-8d8e-4b43-bcab-c179a61311ff",
   "metadata": {},
   "source": [
    "### 강의영상 "
   ]
  },
  {
   "cell_type": "markdown",
   "id": "4c843550",
   "metadata": {
    "vscode": {
     "languageId": "raw"
    }
   },
   "source": [
    "{{<video https://youtu.be/playlist?list=PLQqh36zP38-xq_NTSPS3q_-Nbxrq-zeU9&si=Ns29zK5ItJIaSaiq >}}"
   ]
  },
  {
   "cell_type": "markdown",
   "id": "77e1d810",
   "metadata": {
    "vscode": {
     "languageId": "raw"
    }
   },
   "source": [
    "---"
   ]
  },
  {
   "cell_type": "markdown",
   "id": "3c54a7a1",
   "metadata": {
    "vscode": {
     "languageId": "raw"
    }
   },
   "source": [
    "{{<video https://youtu.be/playlist?list=PLQqh36zP38-xdaNhJ0WgBrkIsOFR1zF3R&si=-g1OUeAY7qQ1zPBH >}}"
   ]
  },
  {
   "cell_type": "markdown",
   "id": "10405ab2",
   "metadata": {
    "vscode": {
     "languageId": "raw"
    }
   },
   "source": [
    "> 03wk-2주차에 뒷부분 보충한내용 추가 업로드했습니다. "
   ]
  },
  {
   "cell_type": "markdown",
   "id": "f4e91c56",
   "metadata": {
    "vscode": {
     "languageId": "raw"
    }
   },
   "source": [
    "---"
   ]
  },
  {
   "cell_type": "markdown",
   "id": "3eb26414",
   "metadata": {},
   "source": [
    "### 카디널리티의 유용한개념"
   ]
  },
  {
   "cell_type": "markdown",
   "id": "d886acd3",
   "metadata": {},
   "source": [
    "`# 개념1` -- 어떠한 집합 $A$의 cardinality가 $\\aleph_0$ 이라면, 집합 $A$를 아래와 같이 쓸 수 있다. \n",
    "\n",
    "$$ A = \\{a_1,a_2,a_3,\\dots \\} =\\bigcup_{n \\in \\mathbb{N}} \\{a_n\\}$$\n",
    "\n",
    "즉 어떠한 집합 $A$의 cardinality가 $\\aleph_0$ 이라면 그 집합은 \"셀 수 있다.\" \n",
    "\n",
    "---\n",
    "\n",
    "이 개념을 이용하여 아래를 풀어보자. \n",
    "\n",
    "- $\\{0\\} \\cup \\mathbb{N}$의 카디널리티는?\n",
    "- 짝수집합의 카디널리티는?\n",
    "- 홀수집합의 카디널리티는? \n",
    "- 정수집합의 카디널리티는?\n",
    "- $\\{3n-2: n=1,2,3,\\dots\\}$의 카디널리티는?"
   ]
  },
  {
   "cell_type": "markdown",
   "id": "ce1ffbfd",
   "metadata": {},
   "source": [
    "`#`"
   ]
  },
  {
   "cell_type": "markdown",
   "id": "8cb95dd8",
   "metadata": {
    "vscode": {
     "languageId": "raw"
    }
   },
   "source": [
    "---"
   ]
  },
  {
   "cell_type": "markdown",
   "id": "03cd8613",
   "metadata": {},
   "source": [
    "`# 개념2` -- 어떠한 집합 $A$의 cardinality가 $\\aleph_0$ 이라고 하자. 그리고 또 다른 집합 $B$의 cardinality는 $N$ 이라고 하자. 그러면 $A\\cup B$ 의 cardinality는 $\\aleph_0$ 이다. "
   ]
  },
  {
   "cell_type": "markdown",
   "id": "b9d005e2",
   "metadata": {},
   "source": [
    "`# 개념3` -- $A \\subset B$ 라면, 항상 $A$에서 $B$로 가는 단사함수가 존재한다. 즉 $|A| \\leq |B|$ 가 성립한다.  "
   ]
  },
  {
   "cell_type": "markdown",
   "id": "ffb69192",
   "metadata": {
    "vscode": {
     "languageId": "raw"
    }
   },
   "source": [
    "---"
   ]
  },
  {
   "cell_type": "markdown",
   "id": "0209bee1",
   "metadata": {},
   "source": [
    "### 유리수의 카디널리티"
   ]
  },
  {
   "cell_type": "markdown",
   "id": "3a70f505",
   "metadata": {},
   "source": [
    "`# 예제1` -- $|\\mathbb{N}| = |\\mathbb{Q}|$ 임을 보여라. (<https://en.wikipedia.org/wiki/Rational_number>)"
   ]
  },
  {
   "cell_type": "markdown",
   "id": "0a1f707f",
   "metadata": {
    "vscode": {
     "languageId": "raw"
    }
   },
   "source": [
    "---"
   ]
  },
  {
   "cell_type": "markdown",
   "id": "6a3ae100",
   "metadata": {},
   "source": [
    "`-` 전략: 자연수집합 $\\mathbb{N}$에서 양의유리수 $\\mathbb{Q}^+$로 가는 전단사함수가 존재함을 보이자. (그러면 아래의 2-4가 자동으로 보여진다.)\n",
    "\n",
    "1. $|\\mathbb{N}| = |\\mathbb{Q}^+|$\n",
    "2. $|\\mathbb{Q}^+| = |\\mathbb{Q}^-| \\Rightarrow |\\mathbb{N}| = |\\mathbb{Q}^-|$\n",
    "3. $|\\mathbb{N}| = |\\mathbb{Q}^+ \\cup \\mathbb{Q}^-|$\n",
    "4. $|\\mathbb{N}| = |\\mathbb{Q}|$"
   ]
  },
  {
   "cell_type": "markdown",
   "id": "ae886c02",
   "metadata": {
    "vscode": {
     "languageId": "raw"
    }
   },
   "source": [
    "---"
   ]
  },
  {
   "cell_type": "markdown",
   "id": "1964d989",
   "metadata": {},
   "source": [
    "`-` 단사: $\\mathbb{N} \\subset \\mathbb{Q}^+$ 이므로, $\\mathbb{N} \\to \\mathbb{Q}^+$ 인 단사함수가 존재한다. 즉 $|\\mathbb{N}| \\leq |\\mathbb{Q}^+|$ 이다. "
   ]
  },
  {
   "cell_type": "markdown",
   "id": "87dbed99",
   "metadata": {
    "vscode": {
     "languageId": "raw"
    }
   },
   "source": [
    "---"
   ]
  },
  {
   "cell_type": "markdown",
   "id": "b20f0788",
   "metadata": {},
   "source": [
    "`-` 전사: 이제 $\\mathbb{N} \\to \\mathbb{Q}^+$인 전사함수가 존재함을 보이면 된다.  아래의 그림을 보면 직관적으로 $\\mathbb{N} \\to \\mathbb{Q}^+$인 전사함수가 존재함을 알 수 있음. (모든 양의유리수 $q \\in \\mathbb{Q}^+$에 대하여 대응하는 $n \\in \\mathbb{N}$이 적어도 하나는 존재함) "
   ]
  },
  {
   "cell_type": "markdown",
   "id": "33ce5fcb",
   "metadata": {},
   "source": [
    "![Figure: 자연수와 양의유리수의 카디널넘버가 동일함을 보여주는 그림 (출처: 위키))](https://upload.wikimedia.org/wikipedia/commons/thumb/8/85/Diagonal_argument.svg/1024px-Diagonal_argument.svg.png)"
   ]
  },
  {
   "cell_type": "markdown",
   "id": "5d5223c5",
   "metadata": {
    "vscode": {
     "languageId": "raw"
    }
   },
   "source": [
    "---"
   ]
  },
  {
   "cell_type": "markdown",
   "id": "71ec9b60",
   "metadata": {},
   "source": [
    "> 좀 더 엄밀한 증명을 원한다면?"
   ]
  },
  {
   "cell_type": "markdown",
   "id": "85f819c5",
   "metadata": {
    "vscode": {
     "languageId": "raw"
    }
   },
   "source": [
    "---"
   ]
  },
  {
   "cell_type": "markdown",
   "id": "5240152e",
   "metadata": {},
   "source": [
    "`-` 외우세요: 유리수집합 $\\mathbb{Q}$의 카디널넘버는 $\\aleph_0$이다. 좀 더 자극적으로 말하면 \"자연수의 갯수와 유리수의 갯수는 같다\" 라고 말할 수 있다. "
   ]
  },
  {
   "cell_type": "markdown",
   "id": "c609835b",
   "metadata": {},
   "source": [
    "`-` 아래와 같이 쓸 수 있다. \n",
    "\n",
    "- $\\aleph_0 \\times \\aleph_0 = \\aleph_0^2 =  \\aleph_0$ "
   ]
  },
  {
   "cell_type": "markdown",
   "id": "0a8ac14b",
   "metadata": {
    "vscode": {
     "languageId": "raw"
    }
   },
   "source": [
    "---"
   ]
  },
  {
   "cell_type": "markdown",
   "id": "17046823",
   "metadata": {},
   "source": [
    "### 실수의 카디널리티"
   ]
  },
  {
   "cell_type": "markdown",
   "id": "568258f7",
   "metadata": {},
   "source": [
    "`# 예제2` -- $|\\mathbb{R}| > |\\mathbb{Q}|$ 임을 보여라. "
   ]
  },
  {
   "cell_type": "markdown",
   "id": "86cc059e",
   "metadata": {
    "vscode": {
     "languageId": "raw"
    }
   },
   "source": [
    "---"
   ]
  },
  {
   "cell_type": "markdown",
   "id": "13e319cb",
   "metadata": {},
   "source": [
    "`-` 단순화1: $|\\mathbb{Q}|=|\\mathbb{N}|$ 이므로, $|\\mathbb{R}| > |\\mathbb{N}|$ 임을 보여도 충분하다. \n",
    "\n",
    "- $\\mathbb{N} \\to \\mathbb{R}$ 인 단사함수는 존재하지만, 전사함수는 존재할 수 없음을 보이자. \n",
    "- 그런데 $\\mathbb{N} \\to \\mathbb{R}$ 인 단사함수의 존재성은 쉽게 논의할 수 있다. (자연수는 실수의 부분집합이니까)\n",
    "\n",
    "> 그러면 \"$\\mathbb{N} \\to \\mathbb{R}$ 인 전사함수는 존재할 수 없음\"만을 보이면 끝나네?"
   ]
  },
  {
   "cell_type": "markdown",
   "id": "d2d1db5a",
   "metadata": {
    "vscode": {
     "languageId": "raw"
    }
   },
   "source": [
    "---"
   ]
  },
  {
   "cell_type": "markdown",
   "id": "7952b164",
   "metadata": {},
   "source": [
    "`-` 단순화2: $\\mathbb{N} \\to \\mathbb{R}$ 인 전사함수는 존재할 수 없음을 보이고 싶다. 그런데 이는 $\\mathbb{N} \\to [0,1]$로 향하는 전사가 존재할 수 없음을 보여도 충분하다.^[$\\mathbb{R}$은 커녕 $[0,1]$도 꽉 채우지 못한다는 의미니까..]"
   ]
  },
  {
   "cell_type": "markdown",
   "id": "db12c7d2",
   "metadata": {},
   "source": [
    "`-` **전략**: $\\mathbb{N} \\to [0,1]$ 인 전사함수가 존재한다고 가정하고 모순을 이끌어 내자. "
   ]
  },
  {
   "cell_type": "markdown",
   "id": "feb52d65",
   "metadata": {
    "vscode": {
     "languageId": "raw"
    }
   },
   "source": [
    "---"
   ]
  },
  {
   "cell_type": "markdown",
   "id": "a960c16f",
   "metadata": {
    "vscode": {
     "languageId": "raw"
    }
   },
   "source": [
    "(증명)"
   ]
  },
  {
   "cell_type": "markdown",
   "id": "3f08a977",
   "metadata": {},
   "source": [
    "`1`. 아래와 같은 주장을 하는 가상의 인물을 세움: \n",
    "\n",
    "> $\\mathbb{N} \\to [0,1]$인 전사함수 $a(n)$ 이 존재한다. \n"
   ]
  },
  {
   "cell_type": "markdown",
   "id": "dfc2d6ea",
   "metadata": {
    "vscode": {
     "languageId": "raw"
    }
   },
   "source": [
    "---"
   ]
  },
  {
   "cell_type": "markdown",
   "id": "3aa37a6b",
   "metadata": {},
   "source": [
    ":::{.callout-note}\n",
    "\n",
    "함수 $a:\\mathbb{N} \\to [0,1]$의 예시 중 하나는 아래와 같은 형태일 것임. \n",
    "\n",
    "- $a(1)=a_1= 0.1$ (유리수)\n",
    "- $a(2)=a_2= 0.3141592\\cdots$ (무리수, $\\frac{\\pi}{10}$)\n",
    "- $a(3)=a_3=0.14142135\\cdots$ (무리수, $\\frac{\\sqrt{2}}{10}$)\n",
    "- $\\dots$\n",
    "\n",
    "그 가상의 인물의 주장이 맞다면 모든 $y \\in [0,1]$에 대하여, $a(x)=y$를 만족하는 적당한 $x \\in \\mathbb{N}$이 존재한다는 의미이므로 \n",
    "\n",
    "$$[0,1]=\\{a_1,a_2,a_3,\\dots\\}$$\n",
    "\n",
    "꼴로 표현가능하다는 의미임. 다시 말하면 $[0,1]$ 사이의 모든 실수는 \"셀 수 있다\"는 의미. \n",
    ":::"
   ]
  },
  {
   "cell_type": "markdown",
   "id": "2d3cebd9",
   "metadata": {
    "vscode": {
     "languageId": "raw"
    }
   },
   "source": [
    "---"
   ]
  },
  {
   "cell_type": "markdown",
   "id": "874a70ba",
   "metadata": {},
   "source": [
    "`2`. 전사함수의 정의에 의하여 아래가 성립해야 함\n",
    "\n",
    "> $\\forall y\\in [0,1] ~\\exists x \\in \\mathbb{N}$ such that $a(x)=y$"
   ]
  },
  {
   "cell_type": "markdown",
   "id": "5941d0f5",
   "metadata": {
    "vscode": {
     "languageId": "raw"
    }
   },
   "source": [
    "---"
   ]
  },
  {
   "cell_type": "markdown",
   "id": "86dbc81f",
   "metadata": {},
   "source": [
    "아래의 원리에 따라서 $y=0.x_1x_2x_3\\cdots$를 뽑는다면? \n",
    "\n",
    "- $y$의 첫번째 소수점의 값 $x_1$은 $a(1)=a_1$의 첫번째 소수점과 다르게 한다. $\\Rightarrow$ $y\\neq a(1)$ $\\Rightarrow$ $y \\notin \\{a_1\\}$\n",
    "- $y$의 두번째 소수점의 값 $x_2$은 $a(2)=a_2$의 두번째 소수점과 다르게 한다. $\\Rightarrow$ $y\\neq a(1)$ and $y\\neq a(2)$ $\\Rightarrow$ $y \\notin \\{a_1, a_2\\}$\n",
    "- $\\dots$"
   ]
  },
  {
   "cell_type": "markdown",
   "id": "50300e73",
   "metadata": {},
   "source": [
    "$y$는 분명히 실수이지만 $y \\notin \\{a_1,a_2,a_3,\\dots,\\}$ 이다. (모순)"
   ]
  },
  {
   "cell_type": "markdown",
   "id": "98bf0fe5",
   "metadata": {},
   "source": [
    "`#`"
   ]
  },
  {
   "cell_type": "markdown",
   "id": "fe1b9179",
   "metadata": {
    "vscode": {
     "languageId": "raw"
    }
   },
   "source": [
    "---"
   ]
  },
  {
   "cell_type": "markdown",
   "id": "c5aaed47",
   "metadata": {},
   "source": [
    "### 무리수의 카디널리티"
   ]
  },
  {
   "cell_type": "markdown",
   "id": "738a41db",
   "metadata": {},
   "source": [
    "`# 예제3` -- $|\\mathbb{R}-\\mathbb{Q}| > |\\mathbb{Q}|$ 임을 보여라. "
   ]
  },
  {
   "cell_type": "markdown",
   "id": "f7df989b",
   "metadata": {},
   "source": [
    "`-` 유리수의 집합 $\\mathbb{Q}$ 에서 무리수의 집합 $\\mathbb{R}-\\mathbb{Q}$ 로의 단사함수가 존재하므로 $|\\mathbb{Q}| \\leq |\\mathbb{R}-\\mathbb{Q}|$ 가 성립함은 자명하다. (왜?)"
   ]
  },
  {
   "cell_type": "markdown",
   "id": "fe3a3cca",
   "metadata": {
    "vscode": {
     "languageId": "raw"
    }
   },
   "source": [
    "---"
   ]
  },
  {
   "cell_type": "markdown",
   "id": "8c41f62c",
   "metadata": {},
   "source": [
    "`-` 이제 $|\\mathbb{Q}| \\neq |\\mathbb{R}-\\mathbb{Q}|$ 임을 귀류법을 이용하여 보이자."
   ]
  },
  {
   "cell_type": "markdown",
   "id": "37473cc3",
   "metadata": {
    "vscode": {
     "languageId": "raw"
    }
   },
   "source": [
    "(증명)"
   ]
  },
  {
   "cell_type": "markdown",
   "id": "778c9033",
   "metadata": {
    "vscode": {
     "languageId": "raw"
    }
   },
   "source": [
    "..."
   ]
  },
  {
   "cell_type": "markdown",
   "id": "2741d482",
   "metadata": {},
   "source": [
    "`#`"
   ]
  },
  {
   "cell_type": "markdown",
   "id": "b58b526e",
   "metadata": {
    "vscode": {
     "languageId": "raw"
    }
   },
   "source": [
    "---"
   ]
  },
  {
   "cell_type": "markdown",
   "id": "e32e1e29",
   "metadata": {},
   "source": [
    "`# 예제4` -- $|\\mathbb{R} - \\mathbb{Q}| = |\\mathbb{R}|$ 임을 보여라. "
   ]
  },
  {
   "cell_type": "markdown",
   "id": "936253d2",
   "metadata": {},
   "source": [
    "이건 제 실력으로는 증명할 수 없어요.. 연속체가설을 믿으세요.. "
   ]
  },
  {
   "cell_type": "markdown",
   "id": "1a8eb8af",
   "metadata": {},
   "source": [
    "`#` "
   ]
  },
  {
   "cell_type": "markdown",
   "id": "9b2d19d7",
   "metadata": {
    "vscode": {
     "languageId": "raw"
    }
   },
   "source": [
    "---"
   ]
  },
  {
   "cell_type": "markdown",
   "id": "e2f55660",
   "metadata": {},
   "source": [
    "정리하면 $|\\mathbb{N}|:=\\aleph_0 =|\\mathbb{Q}| < |\\mathbb{R}-\\mathbb{Q}| = |\\mathbb{R}|:=\\aleph_1$ 와 같이 된다. "
   ]
  },
  {
   "cell_type": "markdown",
   "id": "ccaf83d7",
   "metadata": {
    "vscode": {
     "languageId": "raw"
    }
   },
   "source": [
    "---"
   ]
  },
  {
   "cell_type": "markdown",
   "id": "91608cbd",
   "metadata": {
    "vscode": {
     "languageId": "raw"
    }
   },
   "source": [
    "`# 예제` -- $|\\mathbb{Q}| < |\\mathbb{R}|$ 임을 보여라. <-- 한반더"
   ]
  },
  {
   "cell_type": "markdown",
   "id": "b4df8b18",
   "metadata": {
    "vscode": {
     "languageId": "raw"
    }
   },
   "source": [
    "(증명)"
   ]
  },
  {
   "cell_type": "markdown",
   "id": "3bdc783b",
   "metadata": {
    "vscode": {
     "languageId": "raw"
    }
   },
   "source": [
    "$|\\mathbb{N}| < |[0,1]|$ 임을 보여도 충분하다. 따라서 $\\mathbb{N} \\to [0,1]$ 인 단사는 존재하지만 전사가 존재할수 없음을 보이면 된다. 단사가 존재함은 $f(x)=\\frac{1}{x}$로 보일 수 있다. 전사가 존재하지 않음은 귀류법을 이용하여 (즉 전사가 존재한다고 가정 $\\to$ 사실상 전단사가 존재한다고 가정하는셈) 앞의 수업시간과 같은 논리로 보일 수 있음. "
   ]
  },
  {
   "cell_type": "markdown",
   "id": "4215f895",
   "metadata": {},
   "source": [
    "---"
   ]
  },
  {
   "cell_type": "markdown",
   "id": "fdd6cafd",
   "metadata": {
    "vscode": {
     "languageId": "raw"
    }
   },
   "source": [
    "### 르벡메저"
   ]
  },
  {
   "cell_type": "markdown",
   "id": "2a2c52e6",
   "metadata": {},
   "source": [
    "이제 누군가가 아래와 같은 방식으로 길이를 잰다고 해도 비웃을 수 없다. "
   ]
  },
  {
   "cell_type": "markdown",
   "id": "9366d24a",
   "metadata": {
    "vscode": {
     "languageId": "raw"
    }
   },
   "source": [
    "- 한 점의 길이는 $0$이다. \n",
    "- $[0,2\\pi)$의 모든 유리수의 길이는 $0$이다. \n",
    "- $[0,2\\pi)$의 모든 무리수의 길이는 $2\\pi$이다. "
   ]
  }
 ],
 "metadata": {
  "celltoolbar": "Slideshow",
  "kernelspec": {
   "display_name": "Julia 1.11.1",
   "language": "julia",
   "name": "julia-1.11"
  },
  "language_info": {
   "codemirror_mode": {
    "name": "ipython",
    "version": 3
   },
   "file_extension": ".py",
   "mimetype": "text/x-python",
   "name": "julia",
   "nbconvert_exporter": "python",
   "pygments_lexer": "ipython3",
   "version": "3.9.6"
  }
 },
 "nbformat": 4,
 "nbformat_minor": 5
}
